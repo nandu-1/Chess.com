{
 "cells": [
  {
   "cell_type": "code",
   "execution_count": 67,
   "id": "687c58d1",
   "metadata": {},
   "outputs": [
    {
     "name": "stdout",
     "output_type": "stream",
     "text": [
      "Requirement already satisfied: chess.com in c:\\anaconda\\anaconda3\\lib\\site-packages (2.0.3)\n",
      "Requirement already satisfied: aiohttp==3.8.1 in c:\\anaconda\\anaconda3\\lib\\site-packages (from chess.com) (3.8.1)\n",
      "Requirement already satisfied: requests==2.28.0 in c:\\anaconda\\anaconda3\\lib\\site-packages (from chess.com) (2.28.0)\n",
      "Requirement already satisfied: aiosignal>=1.1.2 in c:\\anaconda\\anaconda3\\lib\\site-packages (from aiohttp==3.8.1->chess.com) (1.3.1)\n",
      "Requirement already satisfied: frozenlist>=1.1.1 in c:\\anaconda\\anaconda3\\lib\\site-packages (from aiohttp==3.8.1->chess.com) (1.3.3)\n",
      "Requirement already satisfied: yarl<2.0,>=1.0 in c:\\anaconda\\anaconda3\\lib\\site-packages (from aiohttp==3.8.1->chess.com) (1.8.2)\n",
      "Requirement already satisfied: charset-normalizer<3.0,>=2.0 in c:\\anaconda\\anaconda3\\lib\\site-packages (from aiohttp==3.8.1->chess.com) (2.0.4)\n",
      "Requirement already satisfied: multidict<7.0,>=4.5 in c:\\anaconda\\anaconda3\\lib\\site-packages (from aiohttp==3.8.1->chess.com) (6.0.4)\n",
      "Requirement already satisfied: attrs>=17.3.0 in c:\\anaconda\\anaconda3\\lib\\site-packages (from aiohttp==3.8.1->chess.com) (21.2.0)\n",
      "Requirement already satisfied: async-timeout<5.0,>=4.0.0a3 in c:\\anaconda\\anaconda3\\lib\\site-packages (from aiohttp==3.8.1->chess.com) (4.0.2)\n",
      "Requirement already satisfied: idna<4,>=2.5 in c:\\anaconda\\anaconda3\\lib\\site-packages (from requests==2.28.0->chess.com) (3.2)\n",
      "Requirement already satisfied: certifi>=2017.4.17 in c:\\anaconda\\anaconda3\\lib\\site-packages (from requests==2.28.0->chess.com) (2021.10.8)\n",
      "Requirement already satisfied: urllib3<1.27,>=1.21.1 in c:\\anaconda\\anaconda3\\lib\\site-packages (from requests==2.28.0->chess.com) (1.26.7)\n",
      "Note: you may need to restart the kernel to use updated packages.\n"
     ]
    }
   ],
   "source": [
    "pip install chess.com"
   ]
  },
  {
   "cell_type": "code",
   "execution_count": 103,
   "id": "ccb4110b",
   "metadata": {},
   "outputs": [
    {
     "name": "stdout",
     "output_type": "stream",
     "text": [
      "Collecting boto3\n",
      "  Downloading boto3-1.26.56-py3-none-any.whl (132 kB)\n",
      "Collecting botocore<1.30.0,>=1.29.56\n",
      "  Downloading botocore-1.29.56-py3-none-any.whl (10.3 MB)\n",
      "Collecting jmespath<2.0.0,>=0.7.1\n",
      "  Downloading jmespath-1.0.1-py3-none-any.whl (20 kB)\n",
      "Collecting s3transfer<0.7.0,>=0.6.0\n",
      "  Downloading s3transfer-0.6.0-py3-none-any.whl (79 kB)\n",
      "Requirement already satisfied: python-dateutil<3.0.0,>=2.1 in c:\\anaconda\\anaconda3\\lib\\site-packages (from botocore<1.30.0,>=1.29.56->boto3) (2.8.2)\n",
      "Requirement already satisfied: urllib3<1.27,>=1.25.4 in c:\\anaconda\\anaconda3\\lib\\site-packages (from botocore<1.30.0,>=1.29.56->boto3) (1.26.7)\n",
      "Requirement already satisfied: six>=1.5 in c:\\anaconda\\anaconda3\\lib\\site-packages (from python-dateutil<3.0.0,>=2.1->botocore<1.30.0,>=1.29.56->boto3) (1.16.0)\n",
      "Installing collected packages: jmespath, botocore, s3transfer, boto3\n",
      "Successfully installed boto3-1.26.56 botocore-1.29.56 jmespath-1.0.1 s3transfer-0.6.0\n",
      "Note: you may need to restart the kernel to use updated packages.\n"
     ]
    }
   ],
   "source": [
    "pip install boto3"
   ]
  },
  {
   "cell_type": "code",
   "execution_count": 37,
   "id": "02e74344",
   "metadata": {},
   "outputs": [],
   "source": [
    "from chessdotcom import *\n",
    "import json\n",
    "from pathlib import Path\n",
    "from pprint import pprint\n",
    "import boto3\n",
    "import os\n",
    "import datetime\n",
    "\n",
    "s3_resource = boto3.resource(\"s3\")\n",
    "bucket_name = s3_resource.Bucket(\"my-chess-data\")\n",
    "path = \"C:/python/pythonProject/\"  #local_path"
   ]
  },
  {
   "cell_type": "code",
   "execution_count": 56,
   "id": "c552057e",
   "metadata": {},
   "outputs": [],
   "source": [
    "def get_streamers_info():\n",
    "    response = get_streamers().json  #dict data type\n",
    "    json_object1 = json.dumps(response,indent=4) # converted to string json object \n",
    "    p=os.path.join(path,'streamer.json')\n",
    "    \n",
    "    with open(p, \"w\") as outfile:\n",
    "        outfile.write(json_object1)\n",
    "\n",
    "get_streamers_info()"
   ]
  },
  {
   "cell_type": "code",
   "execution_count": 59,
   "id": "646c5a81",
   "metadata": {},
   "outputs": [],
   "source": [
    "file_name = os.path.join(path,'streamer.json')\n",
    "object_name = 'streamers/streamer.json' \n",
    "bucket_name.upload_file(file_name,object_name)"
   ]
  },
  {
   "cell_type": "code",
   "execution_count": 41,
   "id": "7ca20ccb",
   "metadata": {},
   "outputs": [],
   "source": [
    "d = get_streamers().json\n",
    "usernames=[]\n",
    "for i in range(0,len(d['streamers'])):\n",
    "    usernames.append(d['streamers'][i]['username'])"
   ]
  },
  {
   "cell_type": "code",
   "execution_count": 42,
   "id": "59bbccf6",
   "metadata": {},
   "outputs": [],
   "source": [
    "def get_streamers_profile(usernames):\n",
    "    l=[]\n",
    "    o={}\n",
    "    for i in usernames:\n",
    "        try:\n",
    "            response = get_player_profile(i).json\n",
    "            y = response['player']\n",
    "            l.append(y)\n",
    "            \n",
    "        except ChessDotComError as CDE:\n",
    "            print(CDE.status_code)\n",
    "            \n",
    "    o['players'] = l\n",
    "    return o;\n",
    "    "
   ]
  },
  {
   "cell_type": "code",
   "execution_count": 43,
   "id": "fbb8433f",
   "metadata": {},
   "outputs": [
    {
     "name": "stdout",
     "output_type": "stream",
     "text": [
      "502\n"
     ]
    }
   ],
   "source": [
    "t = get_streamers_profile(usernames)\n",
    "r = json.dumps(t, indent=4)\n",
    "path = \"C:/python/pythonProject/\"\n",
    "p = os.path.join(path,'profiles.json')\n",
    "with open (p,'w') as out:\n",
    "    out.write(r)"
   ]
  },
  {
   "cell_type": "code",
   "execution_count": 62,
   "id": "0980b390",
   "metadata": {},
   "outputs": [],
   "source": [
    "object_name = 'profile/profiles.json' \n",
    "file_name = os.path.join(path,'profiles.json')\n",
    "bucket_name.upload_file(file_name,object_name)"
   ]
  },
  {
   "cell_type": "code",
   "execution_count": 45,
   "id": "f1a3fa9c",
   "metadata": {},
   "outputs": [],
   "source": [
    "def get_streamers_stats(usernames):\n",
    "    l = []\n",
    "    o = {}\n",
    "    \n",
    "    for i in usernames:\n",
    "        y = {}\n",
    "        try:\n",
    "            response = get_player_stats(i).json\n",
    "            y[i] = response['stats']\n",
    "            l.append(y)\n",
    "            \n",
    "        except ChessDotComError as CDE:\n",
    "            print(CDE.status_code)\n",
    "    o['stats'] = l\n",
    "    return o\n"
   ]
  },
  {
   "cell_type": "code",
   "execution_count": 46,
   "id": "68e9623d",
   "metadata": {},
   "outputs": [],
   "source": [
    "rk = get_streamers_stats(usernames)\n",
    "t = json.dumps(rk, indent=4)\n",
    "path = \"C:/python/pythonProject/\"\n",
    "p = os.path.join(path,'stats.json')\n",
    "with open(p,'w') as fp:\n",
    "    fp.write(t)"
   ]
  },
  {
   "cell_type": "code",
   "execution_count": 60,
   "id": "09d016fa",
   "metadata": {},
   "outputs": [],
   "source": [
    "object_name = 'stats/stats.json' \n",
    "file_name = os.path.join(path,'stats.json')\n",
    "bucket_name.upload_file(file_name,object_name)"
   ]
  },
  {
   "cell_type": "code",
   "execution_count": null,
   "id": "0591161b",
   "metadata": {},
   "outputs": [],
   "source": []
  }
 ],
 "metadata": {
  "kernelspec": {
   "display_name": "Python 3 (ipykernel)",
   "language": "python",
   "name": "python3"
  },
  "language_info": {
   "codemirror_mode": {
    "name": "ipython",
    "version": 3
   },
   "file_extension": ".py",
   "mimetype": "text/x-python",
   "name": "python",
   "nbconvert_exporter": "python",
   "pygments_lexer": "ipython3",
   "version": "3.9.7"
  }
 },
 "nbformat": 4,
 "nbformat_minor": 5
}
